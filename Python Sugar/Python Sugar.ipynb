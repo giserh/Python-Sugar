{
 "cells": [
  {
   "cell_type": "markdown",
   "metadata": {},
   "source": [
    "**inheritance in Python**:\n",
    "\n",
    "```python\n",
    "# python 2.7\n",
    "class First(object):\n",
    "    def __init__(self):\n",
    "        print \"first\"\n",
    "\n",
    "class Second(First):\n",
    "    def __init__(self):\n",
    "        super(Second, self).__init__()\n",
    "\n",
    "# python 3.7\n",
    "class First(object):\n",
    "    def __init__(self):\n",
    "        print \"first\"\n",
    "\n",
    "class Second(First):\n",
    "    def __init__(self):\n",
    "        super().__init__()\n",
    "```"
   ]
  },
  {
   "cell_type": "markdown",
   "metadata": {},
   "source": [
    "**Multiple Inheritance:**\n",
    "\n",
    "Classes in python can inherit from  more than one class. The ordering of the classes is critical and explained as [Method Resolution Order](http://python-history.blogspot.ca/2010/06/method-resolution-order.html)."
   ]
  },
  {
   "cell_type": "markdown",
   "metadata": {
    "collapsed": true
   },
   "source": [
    "**Python Functions:**\n",
    "* Functions are just variables in python. By writing it like this you save space and complexity as opposed to doing it in-line.\n",
    "\n",
    "```python\n",
    "def derived_session_token_udf():\n",
    "    return F.concat(\n",
    "        F.col(\"shop_id\").cast(\"string\"), F.lit(\":\"),\n",
    "        F.col(\"user_token\"), F.lit(\":\"),\n",
    "        F.col(\"session_token\"), F.lit(\":\"),\n",
    "        F.year(F.col(timestamp_key)), F.lit(\":\"),\n",
    "        F.dayofyear(F.col(timestamp_key))\n",
    "    )\n",
    "\n",
    "new_df = df.withColumn(\"derived_session_token\", derived_session_token_udf())\n",
    "```"
   ]
  },
  {
   "cell_type": "markdown",
   "metadata": {},
   "source": [
    "**Procedures in Python**:  \n",
    "Sometimes functions in python don't return values.\n",
    "\n",
    "`list.remove(x)`  \n",
    "Remove the first item from the list whose value is x. It is an error if there is no such item.\n",
    "\n",
    "`list.count(x)`  \n",
    "Return the number of times x appears in the list.\n",
    "\n",
    "```python\n",
    "a = [1, 2, 3]\n",
    "print(a.remove(1))\n",
    ">> None\n",
    "print(a)\n",
    ">> [2, 3]\n",
    "```"
   ]
  },
  {
   "cell_type": "markdown",
   "metadata": {},
   "source": [
    "**Iterating through lists in Python**:  \n",
    "Sometimes when iterating through an list, you want the index and value. Using the `enumerate` you get both.\n",
    "\n",
    "`enumerate(sequence, start=0)`  \n",
    "Return an enumerate object. sequence must be a sequence, an iterator, or some other object which supports iteration. The next() method of the iterator returned by enumerate() returns a tuple containing a count (from start which defaults to 0) and the values obtained from iterating over sequence:\n",
    "\n",
    "```python\n",
    "a = [2, 5, 1 ,2 ,52, 59]\n",
    "print(\"bad method\")\n",
    "for i in range(0, len(a), 1):\n",
    "    print(\"index: %s value: %s\" % (i, a[i]))\n",
    "    \n",
    "print(\"good method\")\n",
    "for ind, val in enumerate(a, 0):\n",
    "    print(\"index: %s value: %s\" % (ind, val))\n",
    "    \n",
    "# both returns\n",
    ">> index: 0 value: 2\n",
    ">> index: 1 value: 5\n",
    ">> index: 2 value: 1\n",
    ">> index: 3 value: 2\n",
    ">> index: 4 value: 52\n",
    ">> index: 5 value: 59\n",
    "```"
   ]
  },
  {
   "cell_type": "markdown",
   "metadata": {},
   "source": [
    "**Python's built-in `sorted`:**  \n",
    "When you call the `sorted` function, a lot of the times I don't know what it is being sorted on. By explicitly passing a key to be sorted on, this provides a more predictable outcome everytime, as it will be sorted on the same key everytime.\n",
    "\n",
    "`sorted(list, key=None, reverse=False)`\n",
    "\n",
    "```python\n",
    "sorted_actual = sorted(actual, key=lambda r: r[\"key\"])\n",
    "sorted_actual = sorted(actual, key=lambda r: (r[\"key_1\"], r[\"key_2\"]))\n",
    "```"
   ]
  }
 ],
 "metadata": {
  "kernelspec": {
   "display_name": "Python 2",
   "language": "python",
   "name": "python2"
  },
  "language_info": {
   "codemirror_mode": {
    "name": "ipython",
    "version": 2
   },
   "file_extension": ".py",
   "mimetype": "text/x-python",
   "name": "python",
   "nbconvert_exporter": "python",
   "pygments_lexer": "ipython2",
   "version": "2.7.13"
  }
 },
 "nbformat": 4,
 "nbformat_minor": 2
}
