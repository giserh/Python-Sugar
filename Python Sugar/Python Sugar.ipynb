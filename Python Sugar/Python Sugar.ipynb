{
 "cells": [
  {
   "cell_type": "markdown",
   "metadata": {},
   "source": [
    "**Procedures in Python**:  \n",
    "Sometimes functions in python don't return values.\n",
    "\n",
    "`list.remove(x)`  \n",
    "Remove the first item from the list whose value is x. It is an error if there is no such item.\n",
    "\n",
    "`list.count(x)`  \n",
    "Return the number of times x appears in the list."
   ]
  },
  {
   "cell_type": "code",
   "execution_count": 1,
   "metadata": {
    "collapsed": false
   },
   "outputs": [
    {
     "name": "stdout",
     "output_type": "stream",
     "text": [
      "None\n",
      "[2, 3]\n"
     ]
    }
   ],
   "source": [
    "a = [1, 2, 3]\n",
    "print(a.remove(1))\n",
    "print(a)"
   ]
  },
  {
   "cell_type": "markdown",
   "metadata": {},
   "source": [
    "**Iterating through lists in Python**:  \n",
    "Sometimes when iterating through an list, you want the index and value. Using the `enumerate` you get both.\n",
    "\n",
    "`enumerate(sequence, start=0)`  \n",
    "Return an enumerate object. sequence must be a sequence, an iterator, or some other object which supports iteration. The next() method of the iterator returned by enumerate() returns a tuple containing a count (from start which defaults to 0) and the values obtained from iterating over sequence:"
   ]
  },
  {
   "cell_type": "code",
   "execution_count": 2,
   "metadata": {
    "collapsed": false
   },
   "outputs": [
    {
     "name": "stdout",
     "output_type": "stream",
     "text": [
      "bad method\n",
      "index: 0 value: 2\n",
      "index: 1 value: 5\n",
      "index: 2 value: 1\n",
      "index: 3 value: 2\n",
      "index: 4 value: 52\n",
      "index: 5 value: 59\n",
      "good method\n",
      "index: 0 value: 2\n",
      "index: 1 value: 5\n",
      "index: 2 value: 1\n",
      "index: 3 value: 2\n",
      "index: 4 value: 52\n",
      "index: 5 value: 59\n"
     ]
    }
   ],
   "source": [
    "a = [2, 5, 1 ,2 ,52, 59]\n",
    "print(\"bad method\")\n",
    "for i in range(0, len(a), 1):\n",
    "    print(\"index: %s value: %s\" % (i, a[i]))\n",
    "    \n",
    "print(\"good method\")\n",
    "for ind, val in enumerate(a, 0):\n",
    "    print(\"index: %s value: %s\" % (ind, val))"
   ]
  },
  {
   "cell_type": "code",
   "execution_count": null,
   "metadata": {
    "collapsed": true
   },
   "outputs": [],
   "source": []
  }
 ],
 "metadata": {
  "kernelspec": {
   "display_name": "Python 2",
   "language": "python",
   "name": "python2"
  },
  "language_info": {
   "codemirror_mode": {
    "name": "ipython",
    "version": 2
   },
   "file_extension": ".py",
   "mimetype": "text/x-python",
   "name": "python",
   "nbconvert_exporter": "python",
   "pygments_lexer": "ipython2",
   "version": "2.7.13"
  }
 },
 "nbformat": 4,
 "nbformat_minor": 2
}
