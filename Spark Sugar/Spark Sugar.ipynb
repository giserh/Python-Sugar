{
 "cells": [
  {
   "cell_type": "markdown",
   "metadata": {},
   "source": [
    "**DataTypes in PySpark:**  \n",
    "\n",
    "RDD:\n",
    "* Records\n",
    "\n",
    "DataFrames:\n",
    "* Rows\n",
    "* Columns\n",
    "\n",
    "Groupby:\n",
    "* Groups\n",
    "\n",
    "DataSets:\n"
   ]
  },
  {
   "cell_type": "markdown",
   "metadata": {},
   "source": [
    "**F.struct in PySpark:**  \n",
    "`pyspark.sql.functions.`**`struct`**`(*cols)`\n",
    "\n",
    "Creates a new struct column.  \n",
    "**Parameters:**\t**cols** – list of column names (string) or list of **Column** expressions\n",
    "\n",
    "```python\n",
    "df = spark.createDataFrame([('Alice', 2), ('Bob', 5)], ['name','age'])\n",
    "\n",
    "df.select(struct('age', 'name').alias(\"struct\")).collect()\n",
    "[Row(struct=Row(age=2, name=u'Alice')), Row(struct=Row(age=5, name=u'Bob'))]\n",
    "\n",
    "df.select(struct([df.age, df.name]).alias(\"struct\")).collect()\n",
    "[Row(struct=Row(age=2, name=u'Alice')), Row(struct=Row(age=5, name=u'Bob'))]\n",
    "```"
   ]
  }
 ],
 "metadata": {
  "kernelspec": {
   "display_name": "Python 2",
   "language": "python",
   "name": "python2"
  },
  "language_info": {
   "codemirror_mode": {
    "name": "ipython",
    "version": 2
   },
   "file_extension": ".py",
   "mimetype": "text/x-python",
   "name": "python",
   "nbconvert_exporter": "python",
   "pygments_lexer": "ipython2",
   "version": "2.7.13"
  }
 },
 "nbformat": 4,
 "nbformat_minor": 2
}
